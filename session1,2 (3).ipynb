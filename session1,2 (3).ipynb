#!/usr/bin/env python
# coding: utf-8

# In[6]:


print("welcome to python tutorial ")


# In[7]:


print(100)


# In[8]:


print('ok')


# In[9]:


print("ok")


# In[10]:


print('''ok''')


# In[15]:


print("""""ok""""")


# In[17]:


''' This is multiple line comments
    use triple quotes if you want to elaborate more in multiple lines

'''
# is for single line


# In[ ]:


Name="Susan"
age=21
isIndian=False
height=5.5
#Variables are not enclosed in quotes


# In[20]:


print(Name,age,isIndian,height)


# In[22]:


print(Name)
print(age)


# In[25]:


#to identify the type variable
#type function to the rescue
print(type(Name))


# In[26]:


print(type(age))


# In[27]:


print(type(isIndian))


# In[28]:


print(type(height))


# In[29]:


print(type(Name),type(age),type(isIndian),type(height))


# In[30]:


#Fun with operators
#Arithmetic operators
# +,-,/,*,//(floor Division),**(Power),%(Mod by this we get remainder of the division)


# In[31]:


var1=13
var2=7


# In[32]:


print(var1+var2)


# In[33]:


print(var1-var2)


# In[34]:


print(var1*var2)


# In[36]:


print(var1/var2) #output is of float type


# In[37]:


print(var1//var2)  #out of the decimal like from dividing 13/7=1.85 so we get only 1 in floor division i.e lowest floor value


# In[38]:


print(2**3) #it's like 2*2*2


# In[40]:


print(13%5)   #(mod)returns remainder


# In[41]:


#comparison Operators(comparison will always retrun a bool value)

var1=10
var2=9
print(var1<var2)


# In[42]:


print(var1>var2)


# In[43]:


print(var1==var2)


# In[44]:


print(5==5) # ""=="it is like equality check 


# In[45]:


a=5 #5 is assigned to a


# In[46]:


print(10!=5)   # this is like 10 is not equals to 5


# In[47]:


print(10!=10)


# In[48]:


print(15>=5)


# In[49]:


print(5>=5)


# In[52]:


print(5<=15)


# In[51]:


print(5<=5)

# Membership Operators (here we check the presence here)
# In[5]:


"plum" in ["cherry","banana","apple"]  


# In[1]:


"loki" in ["ironman","spiderman","superman"]  # in keyword is used for checking the existence


# In[4]:


'i' in ['a','e','i','o','u']


# In[2]:


"f" not in ["a","e","i","o","u"]


# In[3]:


5+5


# In[4]:


'a'+'b'


# In[5]:


#Operators


# In[11]:


age=21


# In[15]:


if age>18:
    
    print("valid for voting")
else :
    print("Print Not valid for voting")


# In[16]:


# Fun with Multiple conditions


# In[17]:


div=2


# In[18]:


#colons are used to create a block of code
if div==1:
    print("first Rank")
elif div==2:
    print("second rank")
elif div==3:
    print("third rank")
else :
    print("No division")


# In[20]:


if div==1:
    print("first Rank")
elif div==2:
    print("second rank")
elif div==3:
    print("third rank")
else :
    print("No division")
    
print("This will execute everytime")


# In[ ]:





# In[ ]:





# In[21]:


input('enter your age')  #used for generating the text field


# In[22]:


age=input('enter your age')


# In[23]:


age


# In[24]:


print(type(age))   #whenever we take any data from user using input function, it is always string thats why we needd to learn how to convert a datatype


# In[55]:


age=int(input('enter your age  ')) #it's called "type casting" for converting the datatype


# In[26]:


age


# In[27]:


print(type(age))


# In[ ]:





# In[ ]:





# In[28]:


age=int(input('enter your age '))  #elif is for specific conditions where as else is used where all the conditons are false

if age>=60:
    print('senior person')
elif age>=18:
    print('Adult')
elif age>13:
    print('teenager')
else :
    print('Kiddo/Toddler')


# In[ ]:





# In[29]:


#Python Data Structures


# In[30]:


print('Good Morning')


# In[33]:


#Loops  (When the tasks are repititive in nature we use Loops for eg.if we want to print Good morning 10 times,or finding squares of no.between 1 to 10000)


# In[35]:


#while Loop

meter=1
while(meter<=10):
    print("good morning",meter,"times")
    meter+=1 #we can also write it as meter=meter+1


# In[36]:


#For Loop (used more frequently than while loop)


# In[37]:


#range() this is a builtin function in python
#This is a generator it generates numbers
#eg.
#range(3)
#output:0,1,2
#range(5)
#output:0,1,2,3,4


# In[39]:


for bag in range(5):     
    print(bag)


# In[41]:


for anything in range(10):
    print(anything)


# In[42]:


for anything in range(10):
    print("Good Morning")


# In[ ]:





# In[43]:


#keywords Use for controlling Loops
# break & continue


# In[46]:


for x in range(10):
    print(x)


# In[47]:


for x in range(10):
    if x==5:
        print('ouch!')
        break # its a keyword we used to terminate a loop
    print(x)
print('good morning')


# In[48]:


for x in range(10):
    if x==5:
        print('ouch!')
        continue
    print(x)
print('good morning')


# In[49]:


#lets find the square of  odd nos.only


# In[4]:


for x in range(1,11):
    # condition to determine if the no.is even
    
    if x%2==0:
        continue
    print('sqr of',x,'is',x*x)


# In[8]:


for x in range(5):
    print (x)


# In[13]:


for x in range(5):
    print (x,end='   ')


# In[14]:


#Data Structures(used to store,update,delete,search,scan,insert,sort)
    
#it is way of organizing & storing data so that they can be accesed and worked with efficiency.using data structures data scientist can focus on main problem instead of getting tangled in data access or data description related issues
# primitives:int,strings,float,boolean
# non primitives:list,tuple,set,dictionary
#list is a collection of primitives


# In[16]:


#shopping_item=["smartphone","books","shoes",100,true,99.9]  #List we can update,repeat,add/remove values here in list


# In[ ]:




